{
 "cells": [
  {
   "cell_type": "code",
   "execution_count": 1,
   "metadata": {
    "collapsed": false
   },
   "outputs": [
    {
     "name": "stdout",
     "output_type": "stream",
     "text": [
      "/home/ubuntu/hathitrust-api/hathitrust_api\n"
     ]
    }
   ],
   "source": [
    "%cd hathitrust_api/"
   ]
  },
  {
   "cell_type": "code",
   "execution_count": 2,
   "metadata": {
    "collapsed": false
   },
   "outputs": [],
   "source": [
    "import data_api\n",
    "auth_key = '998e5140ec'\n",
    "auth_secret = 'cbc998dee1350bddf5af0bcd09cb'"
   ]
  },
  {
   "cell_type": "code",
   "execution_count": 3,
   "metadata": {
    "collapsed": false
   },
   "outputs": [],
   "source": [
    "w=data_api.DataAPI(auth_key,auth_secret,secure=True)"
   ]
  },
  {
   "cell_type": "code",
   "execution_count": 10,
   "metadata": {
    "collapsed": false
   },
   "outputs": [
    {
     "name": "stdout",
     "output_type": "stream",
     "text": [
      "https://babel.hathitrust.org/cgi/htd/volume/pagemeta/nyp.33433082228226/136\n",
      "<?xml version=\"1.0\"?>\n",
      "<entry xmlns:htd=\"http://schemas.hathitrust.org/htd/2009\" xmlns=\"http://www.w3.org/2005/Atom\"><htd:numpages>252</htd:numpages><htd:seqmap><htd:seq pseq=\"136\"><htd:pnum>426</htd:pnum><htd:pfeat>UNTYPICAL_PAGE</htd:pfeat><htd:imgfmt>image/tiff</htd:imgfmt></htd:seq></htd:seqmap><htd:pgmap><htd:pg pgnum=\"426\">136</htd:pg></htd:pgmap><htd:rights><htd:namespace>nyp</htd:namespace><htd:user>timothy</htd:user><htd:time>2013-01-02T04:32:37</htd:time><htd:access_profile>2</htd:access_profile><htd:note/><htd:id>33433082228226</htd:id><htd:attr>1</htd:attr><htd:reason>1</htd:reason></htd:rights><link type=\"application/atom+xml\" rel=\"self\" href=\"http://babel.hathitrust.org/cgi/htd/volume/pagemeta/nyp.33433082228226/136\"/><link type=\"text/html\" rel=\"http://schemas.hathitrust.org/htd/2009#pageturner\" href=\"http://babel.hathitrust.org/cgi/pt?id=nyp.33433082228226\"/><link rel=\"http://schemas.hathitrust.org/htd/2009#handle\" href=\"http://hdl.handle.net/2027/nyp.33433082228226\" type=\"text/html\"/><link href=\"http://babel.hathitrust.org/cgi/htd/volume/pageimage/nyp.33433082228226/:SEQ\" rel=\"http://schemas.hathitrust.org/htd/2009#volume_pageimage\" type=\"application/unknown\"/><link type=\"text/plain\" rel=\"http://schemas.hathitrust.org/htd/2009#volume_pageocr\" href=\"http://babel.hathitrust.org/cgi/htd/volume/pageocr/nyp.33433082228226/:SEQ\"/><link href=\"http://babel.hathitrust.org/cgi/htd/volume/pagecoordocr/nyp.33433082228226/:SEQ\" rel=\"http://schemas.hathitrust.org/htd/2009#volume_pagecoordocr\" type=\"application/unknown\"/><link type=\"application/atom+xml\" rel=\"http://schemas.hathitrust.org/htd/2009#volume_meta\" href=\"http://babel.hathitrust.org/cgi/htd/volume/meta/nyp.33433082228226\"/><link type=\"application/pdf\" rel=\"http://schemas.hathitrust.org/htd/2009#volume\" href=\"https://babel.hathitrust.org/cgi/htd/volume/nyp.33433082228226\"/><link rel=\"http://schemas.hathitrust.org/htd/2009#aggregate\" href=\"https://babel.hathitrust.org/cgi/htd/aggregate/nyp.33433082228226\" type=\"application/zip\"/><link rel=\"http://schemas.hathitrust.org/htd/2009#structure\" href=\"http://babel.hathitrust.org/cgi/htd/structure/nyp.33433082228226\" type=\"text/xml\"/><htd:access_use>http://schemas.hathitrust.org/htd/2009#pd-google</htd:access_use><htd:access_use_statement>We have determined this work to be in the public domain, meaning that it is not subject to copyright. Users are free to copy, use, and redistribute the work in part or in whole. It is possible that current copyright holders, heirs or the estate of the authors of individual portions of the work, such as illustrations or photographs, assert copyrights over these portions. Depending on the nature of subsequent use that is made, additional rights may need to be obtained independently of anything we can address. The digital images and OCR of this work were produced by Google, Inc. (indicated by a watermark on each page in the PageTurner). Google requests that the images and OCR not be re-hosted, redistributed or used commercially. The images are provided for educational, scholarly, non-commercial purposes.</htd:access_use_statement><title>HathiTrust Repository Data API - Volume single page metadata</title><id>http://babel.hathitrust.org/cgi/htd/volume/pagemeta/nyp.33433082228226/136</id><htd:version>2</htd:version><updated>2016-10-17T17:53:21.010-0400</updated><htd:access resource=\"volume/pageocr\">http://schemas.hathitrust.org/htd/2009#open</htd:access><htd:access resource=\"volume/pagecoordocr\">http://schemas.hathitrust.org/htd/2009#open</htd:access><htd:access resource=\"volume/pageimage\">http://schemas.hathitrust.org/htd/2009#open</htd:access><htd:access resource=\"volume\">http://schemas.hathitrust.org/htd/2009#restricted</htd:access><htd:access resource=\"aggregate\">http://schemas.hathitrust.org/htd/2009#restricted</htd:access><htd:selected_seq>136</htd:selected_seq></entry>\n",
      "\n"
     ]
    }
   ],
   "source": [
    "print(w.getpagemeta('nyp.33433082228226', 136).decode(\"utf-8\"))"
   ]
  },
  {
   "cell_type": "code",
   "execution_count": null,
   "metadata": {
    "collapsed": true
   },
   "outputs": [],
   "source": []
  }
 ],
 "metadata": {
  "kernelspec": {
   "display_name": "Python [Root]",
   "language": "python",
   "name": "Python [Root]"
  },
  "language_info": {
   "codemirror_mode": {
    "name": "ipython",
    "version": 3
   },
   "file_extension": ".py",
   "mimetype": "text/x-python",
   "name": "python",
   "nbconvert_exporter": "python",
   "pygments_lexer": "ipython3",
   "version": "3.5.2"
  }
 },
 "nbformat": 4,
 "nbformat_minor": 0
}
